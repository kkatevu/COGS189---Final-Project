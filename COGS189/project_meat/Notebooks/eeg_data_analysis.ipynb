{
 "cells": [
  {
   "cell_type": "markdown",
   "metadata": {},
   "source": [
    "# COGS 189 Group 12 \n",
    "*\"Investigating the Impact of Short-Form Video Content on Cognitive Focus Using EEG\"*\n"
   ]
  },
  {
   "cell_type": "code",
   "execution_count": 5,
   "metadata": {},
   "outputs": [
    {
     "name": "stdout",
     "output_type": "stream",
     "text": [
      "Defaulting to user installation because normal site-packages is not writeable\n",
      "Requirement already satisfied: numpy in /Library/Frameworks/Python.framework/Versions/3.10/lib/python3.10/site-packages (1.26.3)\n",
      "Requirement already satisfied: matplotlib in /Library/Frameworks/Python.framework/Versions/3.10/lib/python3.10/site-packages (3.8.2)\n",
      "Requirement already satisfied: scipy in /Users/tristancooper/Library/Python/3.10/lib/python/site-packages (1.14.0)\n",
      "Collecting mne\n",
      "  Using cached mne-1.9.0-py3-none-any.whl (7.4 MB)\n",
      "Collecting brainflow\n",
      "  Using cached brainflow-5.16.0-py3-none-any.whl (28.6 MB)\n",
      "Requirement already satisfied: scikit-learn in /Users/tristancooper/Library/Python/3.10/lib/python/site-packages (1.5.0)\n",
      "Requirement already satisfied: kiwisolver>=1.3.1 in /Library/Frameworks/Python.framework/Versions/3.10/lib/python3.10/site-packages (from matplotlib) (1.4.5)\n",
      "Requirement already satisfied: contourpy>=1.0.1 in /Library/Frameworks/Python.framework/Versions/3.10/lib/python3.10/site-packages (from matplotlib) (1.2.0)\n",
      "Requirement already satisfied: cycler>=0.10 in /Library/Frameworks/Python.framework/Versions/3.10/lib/python3.10/site-packages (from matplotlib) (0.12.1)\n",
      "Requirement already satisfied: pyparsing>=2.3.1 in /Library/Frameworks/Python.framework/Versions/3.10/lib/python3.10/site-packages (from matplotlib) (3.1.1)\n",
      "Requirement already satisfied: fonttools>=4.22.0 in /Library/Frameworks/Python.framework/Versions/3.10/lib/python3.10/site-packages (from matplotlib) (4.47.2)\n",
      "Requirement already satisfied: python-dateutil>=2.7 in /Users/tristancooper/Library/Python/3.10/lib/python/site-packages (from matplotlib) (2.8.2)\n",
      "Requirement already satisfied: pillow>=8 in /Library/Frameworks/Python.framework/Versions/3.10/lib/python3.10/site-packages (from matplotlib) (10.2.0)\n",
      "Requirement already satisfied: packaging>=20.0 in /Users/tristancooper/Library/Python/3.10/lib/python/site-packages (from matplotlib) (23.2)\n",
      "Collecting pooch>=1.5\n",
      "  Using cached pooch-1.8.2-py3-none-any.whl (64 kB)\n",
      "Requirement already satisfied: tqdm in /Users/tristancooper/Library/Python/3.10/lib/python/site-packages (from mne) (4.66.4)\n",
      "Collecting lazy-loader>=0.3\n",
      "  Using cached lazy_loader-0.4-py3-none-any.whl (12 kB)\n",
      "Requirement already satisfied: decorator in /Users/tristancooper/Library/Python/3.10/lib/python/site-packages (from mne) (5.1.1)\n",
      "Requirement already satisfied: jinja2 in /Users/tristancooper/Library/Python/3.10/lib/python/site-packages (from mne) (3.1.2)\n",
      "Requirement already satisfied: setuptools in /Library/Frameworks/Python.framework/Versions/3.10/lib/python3.10/site-packages (from brainflow) (58.1.0)\n",
      "Requirement already satisfied: threadpoolctl>=3.1.0 in /Users/tristancooper/Library/Python/3.10/lib/python/site-packages (from scikit-learn) (3.5.0)\n",
      "Requirement already satisfied: joblib>=1.2.0 in /Users/tristancooper/Library/Python/3.10/lib/python/site-packages (from scikit-learn) (1.4.2)\n",
      "Requirement already satisfied: requests>=2.19.0 in /Users/tristancooper/Library/Python/3.10/lib/python/site-packages (from pooch>=1.5->mne) (2.31.0)\n",
      "Requirement already satisfied: platformdirs>=2.5.0 in /Users/tristancooper/Library/Python/3.10/lib/python/site-packages (from pooch>=1.5->mne) (3.11.0)\n",
      "Requirement already satisfied: six>=1.5 in /Users/tristancooper/Library/Python/3.10/lib/python/site-packages (from python-dateutil>=2.7->matplotlib) (1.16.0)\n",
      "Requirement already satisfied: MarkupSafe>=2.0 in /Users/tristancooper/Library/Python/3.10/lib/python/site-packages (from jinja2->mne) (2.1.3)\n",
      "Requirement already satisfied: certifi>=2017.4.17 in /Users/tristancooper/Library/Python/3.10/lib/python/site-packages (from requests>=2.19.0->pooch>=1.5->mne) (2023.7.22)\n",
      "Requirement already satisfied: charset-normalizer<4,>=2 in /Users/tristancooper/Library/Python/3.10/lib/python/site-packages (from requests>=2.19.0->pooch>=1.5->mne) (3.3.1)\n",
      "Requirement already satisfied: urllib3<3,>=1.21.1 in /Users/tristancooper/Library/Python/3.10/lib/python/site-packages (from requests>=2.19.0->pooch>=1.5->mne) (2.0.7)\n",
      "Requirement already satisfied: idna<4,>=2.5 in /Users/tristancooper/Library/Python/3.10/lib/python/site-packages (from requests>=2.19.0->pooch>=1.5->mne) (3.4)\n",
      "Installing collected packages: lazy-loader, brainflow, pooch, mne\n",
      "\u001b[33m  WARNING: The script mne is installed in '/Users/tristancooper/Library/Python/3.10/bin' which is not on PATH.\n",
      "  Consider adding this directory to PATH or, if you prefer to suppress this warning, use --no-warn-script-location.\u001b[0m\u001b[33m\n",
      "\u001b[0mSuccessfully installed brainflow-5.16.0 lazy-loader-0.4 mne-1.9.0 pooch-1.8.2\n",
      "\u001b[33mWARNING: You are using pip version 22.0.4; however, version 25.0.1 is available.\n",
      "You should consider upgrading via the '/usr/local/bin/python3 -m pip install --upgrade pip' command.\u001b[0m\u001b[33m\n",
      "\u001b[0mNote: you may need to restart the kernel to use updated packages.\n"
     ]
    }
   ],
   "source": [
    "# Install necessary packages (Uncomment the lines below if you need to install them in your env)\n",
    "%pip install numpy matplotlib scipy mne brainflow scikit-learn\n",
    "\n",
    "import numpy as np\n",
    "import matplotlib.pyplot as plt\n",
    "import scipy.signal as signal\n",
    "import mne\n",
    "from brainflow.board_shim import BoardShim, BrainFlowInputParams\n",
    "from brainflow.data_filter import DataFilter, FilterTypes\n",
    "from sklearn.decomposition import PCA\n",
    "from sklearn.preprocessing import StandardScaler\n"
   ]
  },
  {
   "cell_type": "markdown",
   "metadata": {},
   "source": [
    "## Load EEG Data"
   ]
  },
  {
   "cell_type": "code",
   "execution_count": 5,
   "metadata": {},
   "outputs": [],
   "source": [
    "def load_eeg_data(filepath):\n",
    "    \"\"\"Loads EEG data from a .npy or .edf file\"\"\"\n",
    "    if filepath.endswith('.npy'):\n",
    "        data = np.load(filepath)\n",
    "    elif filepath.endswith('.edf'):\n",
    "        raw = mne.io.read_raw_edf(filepath, preload=True)\n",
    "        data = raw.get_data()\n",
    "    else:\n",
    "        raise ValueError(\"Unsupported file format. Use .npy or .edf\")\n",
    "    return data"
   ]
  },
  {
   "cell_type": "markdown",
   "metadata": {},
   "source": [
    "## Plot Visualization"
   ]
  },
  {
   "cell_type": "code",
   "execution_count": 6,
   "metadata": {},
   "outputs": [],
   "source": [
    "def plot_eeg_data(data, channel=0, sample_rate=250, duration=5):\n",
    "    \"\"\"Plots EEG data for a single channel\"\"\"\n",
    "    time = np.arange(0, duration, 1/sample_rate)\n",
    "    plt.figure(figsize=(12, 4))\n",
    "    plt.plot(time[:len(data[channel, :sample_rate*duration])], data[channel, :sample_rate*duration])\n",
    "    plt.xlabel(\"Time (s)\")\n",
    "    plt.ylabel(\"EEG Signal (uV)\")\n",
    "    plt.title(f\"EEG Data - Channel {channel}\")\n",
    "    plt.show()"
   ]
  },
  {
   "cell_type": "markdown",
   "metadata": {},
   "source": [
    "## Bandpass Filter"
   ]
  },
  {
   "cell_type": "code",
   "execution_count": 7,
   "metadata": {},
   "outputs": [],
   "source": [
    "def bandpass_filter(data, lowcut=1.0, highcut=50.0, sample_rate=250, order=4):\n",
    "    \"\"\"Applies a bandpass filter to EEG data\"\"\"\n",
    "    nyquist = 0.5 * sample_rate\n",
    "    low = lowcut / nyquist\n",
    "    high = highcut / nyquist\n",
    "    b, a = signal.butter(order, [low, high], btype='band')\n",
    "    return signal.filtfilt(b, a, data, axis=1)\n"
   ]
  },
  {
   "cell_type": "markdown",
   "metadata": {},
   "source": [
    "## Feature Extraction"
   ]
  },
  {
   "cell_type": "code",
   "execution_count": 8,
   "metadata": {},
   "outputs": [],
   "source": [
    "def compute_psd(data, sample_rate=250):\n",
    "    \"\"\"Computes the Power Spectral Density (PSD) of EEG data\"\"\"\n",
    "    freqs, psd = signal.welch(data, sample_rate, nperseg=sample_rate*2)\n",
    "    return freqs, psd"
   ]
  },
  {
   "cell_type": "markdown",
   "metadata": {},
   "source": [
    "## Prepare Machine Learning Preprocessing\n",
    "### Prepares EEG data for ML by standardizing and applying PCA"
   ]
  },
  {
   "cell_type": "code",
   "execution_count": 9,
   "metadata": {},
   "outputs": [],
   "source": [
    "def prepare_ml_data(data):\n",
    "    \"\"\"Prepares EEG data for ML by standardizing and applying PCA\"\"\"\n",
    "    scaler = StandardScaler()\n",
    "    data_scaled = scaler.fit_transform(data.T).T  # Normalize channels\n",
    "    pca = PCA(n_components=5)  # Reduce dimensionality\n",
    "    data_pca = pca.fit_transform(data_scaled.T)\n",
    "    return data_pca"
   ]
  },
  {
   "cell_type": "markdown",
   "metadata": {},
   "source": [
    "# Experimental Design: Cognitive Focus and Short-Form Video Impact\n",
    "### The data collection phases: Control Recording -> Break -> Attention Test -> Doom Scroll -> Attention Task"
   ]
  },
  {
   "cell_type": "markdown",
   "metadata": {},
   "source": [
    "Example usage\n",
    "events\n",
    "- \"Control Recording\": (0, 60), \n",
    "- \"Break\": (60, 120), \n",
    "- \"Attention Test\": (120, 180), \n",
    "- \"Doom Scroll\": (180, 240), \n",
    "- \"Attention Task\": (240, 300)}\n",
    "    \n",
    "eeg_data = load_eeg_data(filepath) \n",
    "\n",
    "\n",
    "segmented_data = segment_experiment_data(eeg_data, events)"
   ]
  },
  {
   "cell_type": "markdown",
   "metadata": {},
   "source": []
  }
 ],
 "metadata": {
  "kernelspec": {
   "display_name": "Python 3.10.4 64-bit",
   "language": "python",
   "name": "python3"
  },
  "language_info": {
   "codemirror_mode": {
    "name": "ipython",
    "version": 3
   },
   "file_extension": ".py",
   "mimetype": "text/x-python",
   "name": "python",
   "nbconvert_exporter": "python",
   "pygments_lexer": "ipython3",
   "version": "3.10.4"
  },
  "vscode": {
   "interpreter": {
    "hash": "aee8b7b246df8f9039afb4144a1f6fd8d2ca17a180786b69acc140d282b71a49"
   }
  }
 },
 "nbformat": 4,
 "nbformat_minor": 2
}
