{
 "cells": [
  {
   "cell_type": "markdown",
   "metadata": {},
   "source": [
    "# COGS 189 Group 12 \n",
    "*\"Investigating the Impact of Short-Form Video Content on Cognitive Focus Using EEG\"*\n"
   ]
  },
  {
   "cell_type": "code",
   "execution_count": null,
   "metadata": {},
   "outputs": [],
   "source": [
    "import numpy as np\n",
    "import mne\n",
    "import matplotlib.pyplot as plt\n",
    "\n",
    "# --------------------------------------------------------\n",
    "# 1) YOUR CUSTOM CHANNEL NAMES (excluding GND and REF)\n",
    "# --------------------------------------------------------\n",
    "channel_names_custom = [\"F4\", \"O1\", \"O2\", \"T5\", \"P3\", \"Pz\", \"P4\", \"T6\"]\n",
    "\n",
    "# We'll rename T5/T6 to T7/T8 for MNE's standard montage:\n",
    "rename_dict = {\"T5\": \"T7\", \"T6\": \"T8\"}\n",
    "channel_names_mne = [rename_dict[ch] if ch in rename_dict else ch \n",
    "                     for ch in channel_names_custom]\n",
    "\n",
    "# All channels are EEG\n",
    "channel_types = [\"eeg\"] * len(channel_names_mne)\n",
    "\n",
    "# Example sampling rate (adjust to your actual data)\n",
    "sfreq = 250.0\n",
    "\n",
    "# Create MNE info\n",
    "info = mne.create_info(ch_names=channel_names_mne, sfreq=sfreq, ch_types=channel_types)\n",
    "\n",
    "# Attach a standard 10-20 montage\n",
    "montage = mne.channels.make_standard_montage(\"standard_1020\")\n",
    "info.set_montage(montage)\n",
    "\n",
    "# --------------------------------------------------------\n",
    "# 2) LOAD YOUR EEG DATA (shape = [n_channels, n_times])\n",
    "#    Suppose it's from a single stage (e.g., Baseline)\n",
    "# --------------------------------------------------------\n",
    "data = np.load(\"my_baseline_data.npy\")  \n",
    "# Make sure data is shape (8, n_times). If not, transpose.\n",
    "\n",
    "# --------------------------------------------------------\n",
    "# 3) Create a RawArray. If needed, do additional preprocessing.\n",
    "# --------------------------------------------------------\n",
    "raw = mne.io.RawArray(data, info)\n",
    "\n",
    "# Optional: e.g. filter 1-30 Hz\n",
    "# raw.filter(1, 30)\n",
    "\n",
    "# --------------------------------------------------------\n",
    "# 4) Compute a measure for topoplot (e.g., average power in 1-30 Hz)\n",
    "# --------------------------------------------------------\n",
    "psds, freqs = mne.time_frequency.psd_welch(raw, fmin=1, fmax=30)\n",
    "mean_psd = psds.mean(axis=1)  # average across frequencies => shape (8,)\n",
    "\n",
    "# --------------------------------------------------------\n",
    "# 5) Plot topomap\n",
    "# --------------------------------------------------------\n",
    "fig, ax = plt.subplots(figsize=(5, 4))\n",
    "mne.viz.plot_topomap(mean_psd, raw.info, axes=ax, show=False)\n",
    "ax.set_title(\"Baseline Power (1-30 Hz)\")\n",
    "plt.show()\n"
   ]
  }
 ],
 "metadata": {
  "kernelspec": {
   "display_name": "Python 3.10.4 64-bit",
   "language": "python",
   "name": "python3"
  },
  "language_info": {
   "codemirror_mode": {
    "name": "ipython",
    "version": 3
   },
   "file_extension": ".py",
   "mimetype": "text/x-python",
   "name": "python",
   "nbconvert_exporter": "python",
   "pygments_lexer": "ipython3",
   "version": "3.10.4"
  },
  "vscode": {
   "interpreter": {
    "hash": "aee8b7b246df8f9039afb4144a1f6fd8d2ca17a180786b69acc140d282b71a49"
   }
  }
 },
 "nbformat": 4,
 "nbformat_minor": 2
}
